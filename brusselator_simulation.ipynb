{
 "cells": [
  {
   "cell_type": "code",
   "execution_count": 1,
   "id": "965a720a-5325-49b4-bc18-6cbe861cba9b",
   "metadata": {},
   "outputs": [],
   "source": [
    "import numpy as np\n",
    "import random as rd\n",
    "import scipy as sci\n",
    "import matplotlib.pyplot as plt\n",
    "import itertools as it\n",
    "from scipy.optimize import fsolve\n",
    "from collections import Counter\n",
    "from itertools import islice, combinations\n",
    "#plt.rcParams[\"font.family\"] = \"Times New Roman\"\n",
    "#plt.rcParams[\"figure.figsize\"] = (4,3)\n",
    "#plt.rcParams.update({\"text.usetex\": True, \"font.family\": \"Helvetica\"})\n",
    "from scipy.interpolate import interp1d\n",
    "from scipy import stats, integrate"
   ]
  },
  {
   "cell_type": "markdown",
   "id": "5ceecf45-4f38-4614-bb9a-bf3500730c5e",
   "metadata": {},
   "source": [
    "# functions"
   ]
  },
  {
   "cell_type": "code",
   "execution_count": 76,
   "id": "a2197f6e-67e7-425d-b260-5aec2457f836",
   "metadata": {},
   "outputs": [],
   "source": [
    "def smartlog(a,b):\n",
    "    if(a != 0 and b != 0):\n",
    "        return np.log(a/b)\n",
    "    return 0\n",
    "\n",
    "def simplified_Brusselator(A, B, V, rates, tmax):\n",
    "    [k1,km1,k2,km2,k3,km3] = rates\n",
    "    X = 10\n",
    "    Y = 10\n",
    "    t = 0\n",
    "    traj = []\n",
    "    trajAB = []\n",
    "    times = []\n",
    "    timesAB = []\n",
    "    Σ = 0\n",
    "\n",
    "    # burner\n",
    "    while t < 10:\n",
    "\n",
    "        r1 = A*k1\n",
    "        rm1 = X*km1\n",
    "        r2 = B*k2\n",
    "        rm2 = Y*km2\n",
    "        r3 = X*(X-1)*Y*k3/(V**2)\n",
    "        rm3 = X*(X-1)*(X-2)*km3/(V**2)\n",
    "        tot = r1 + rm1 + r2 + rm2 + r3 + rm3\n",
    "\n",
    "        r = tot*rd.random()\n",
    "\n",
    "        if r <= r1:\n",
    "            X += 1\n",
    "        elif r <= r1 + rm1:\n",
    "            X -= 1\n",
    "        elif r <= r1 + rm1 + r2:\n",
    "            Y += 1\n",
    "        elif r <= r1 + rm1 + r2 + rm2:\n",
    "            Y -= 1\n",
    "        elif r <= r1 + rm1 + r2 + rm2 + r3:\n",
    "            X += 1\n",
    "            Y -= 1\n",
    "        else:\n",
    "            X -= 1\n",
    "            Y += 1\n",
    "        t += -np.log(rd.random())/tot\n",
    "\n",
    "    t = 0\n",
    "    while t < tmax:\n",
    "\n",
    "        r1 = A*k1\n",
    "        rm1 = X*km1\n",
    "        r2 = B*k2\n",
    "        rm2 = Y*km2\n",
    "        #r3 = (X**2)*Y*k3\n",
    "        #rm3 = (X**3)*km3\n",
    "        r3 = X*(X-1)*Y*k3/(V**2)\n",
    "        rm3 = X*(X-1)*(X-2)*km3/(V**2)\n",
    "        tot = r1 + rm1 + r2 + rm2 + r3 + rm3\n",
    "\n",
    "        r = tot*rd.random()\n",
    "        t += -np.log(rd.random())/tot\n",
    "\n",
    "        if r <= r1:\n",
    "            X += 1\n",
    "            traj.append('pA')\n",
    "            times.append(t)\n",
    "            trajAB.append('pA')\n",
    "            timesAB.append(t)\n",
    "            Σ += smartlog(r1,X*km1)\n",
    "        elif r <= r1 + rm1:\n",
    "            X -= 1\n",
    "            traj.append('mA')\n",
    "            times.append(t)\n",
    "            trajAB.append('mA')\n",
    "            timesAB.append(t)\n",
    "            Σ += smartlog(rm1,r1)\n",
    "        elif r <= r1 + rm1 + r2:\n",
    "            Y += 1\n",
    "            traj.append('pB')\n",
    "            times.append(t)\n",
    "            trajAB.append('pB')\n",
    "            timesAB.append(t)\n",
    "            Σ += smartlog(r2,Y*km2)\n",
    "        elif r <= r1 + rm1 + r2 + rm2:\n",
    "            Y -= 1\n",
    "            traj.append('mB')\n",
    "            times.append(t)\n",
    "            trajAB.append('mB')\n",
    "            timesAB.append(t)\n",
    "            Σ += smartlog(rm2,r2)\n",
    "        elif r <= r1 + rm1 + r2 + rm2 + r3:\n",
    "            X += 1\n",
    "            Y -= 1\n",
    "            traj.append('pC')\n",
    "            times.append(t)\n",
    "            Σ += smartlog(r3,X*(X-1)*(X-2)*km3/(V**2))\n",
    "        else:\n",
    "            X -= 1\n",
    "            Y += 1\n",
    "            traj.append('mC')\n",
    "            times.append(t)\n",
    "            Σ += smartlog(rm3,X*(X-1)*Y*k3/(V**2))\n",
    "\n",
    "\n",
    "    return traj, times, Σ/tmax, trajAB, timesAB\n",
    "\n",
    "def count_pairs(array,n=2):\n",
    "    c1 = Counter(zip(*[islice(array,i,None) for i in range(n)]))\n",
    "    total = 1.0 * (len(array) - n + 1)\n",
    "    for k in c1:\n",
    "        c1[k] /= total\n",
    "    \n",
    "    return c1\n",
    "\n",
    "def cumcount_reduced(arr):\n",
    "    '''Returns the step function value at each increment of the CDF'''\n",
    "    sorted_arr = np.array(sorted(arr))\n",
    "    counts = np.zeros(len(arr))\n",
    "    \n",
    "    rolling_count = 0\n",
    "    for idx, elem in enumerate(sorted_arr):\n",
    "        rolling_count += 1\n",
    "        counts[idx] = rolling_count\n",
    "\n",
    "    counts /= len(counts)\n",
    "    counts -= (1 / (2 * len(counts)))\n",
    "\n",
    "    return (sorted_arr, counts)\n",
    "\n",
    "\n",
    "def KLD_PerezCruz(P, Q, eps=1e-11):\n",
    "    '''takes two datasets to estimate the relative entropy between their PDFs\n",
    "    we use eps=10^-11, but it could be defined as < the minimal interval between data points'''\n",
    "    P = sorted(P)\n",
    "    Q = sorted(Q)\n",
    "    \n",
    "    P_positions, P_counts = cumcount_reduced(P)\n",
    "    Q_positions, Q_counts = cumcount_reduced(Q)\n",
    "    \n",
    "    #definition of x_0 and x_{n+1}\n",
    "    x_0 = np.min([P_positions[0], Q_positions[0]]) - 1\n",
    "    P_positions = np.insert(P_positions, 0, [x_0])\n",
    "    P_counts = np.insert(P_counts, 0, [0])\n",
    "    Q_positions = np.insert(Q_positions, 0, [x_0])\n",
    "    Q_counts = np.insert(Q_counts, 0, [0])\n",
    "    \n",
    "    x_np1 = np.max([P_positions[-1], Q_positions[-1]]) + 1\n",
    "    P_positions = np.append(P_positions, [x_np1])\n",
    "    P_counts = np.append(P_counts, [1])\n",
    "    Q_positions = np.append(Q_positions, [x_np1])\n",
    "    Q_counts = np.append(Q_counts, [1])\n",
    "    \n",
    "    f_P = interp1d(P_positions, P_counts)\n",
    "    f_Q = interp1d(Q_positions, Q_counts) \n",
    "    \n",
    "    X = P_positions[1:-2]\n",
    "    values = (f_P(X) - f_P(X - eps)) / (f_Q(X) - f_Q(X - eps))\n",
    "    filt = ((values != 0.) & ~(np.isinf(values)) & ~(np.isnan(values)))\n",
    "    values_filter = values[filt]\n",
    "    out = (np.sum(np.log(values_filter)) / len(values_filter)) - 1.\n",
    "\n",
    "    return out\n",
    "\n",
    "x_dict = {\n",
    "    \"pA\" : 0,\n",
    "    \"mA\" : 1,\n",
    "    \"pB\" : 2,\n",
    "    \"mB\" : 3\n",
    "}\n",
    "\n",
    "rev = {\n",
    "    \"pA\" : \"mA\",\n",
    "    \"mA\" : \"pA\",\n",
    "    \"pB\" : \"mB\",\n",
    "    \"mB\" : \"pB\",\n",
    "    \"pC\" : \"mC\",\n",
    "    \"mC\" : \"pC\"\n",
    "}"
   ]
  },
  {
   "cell_type": "markdown",
   "id": "16713696-8287-4446-afb6-447e68816515",
   "metadata": {},
   "source": [
    "# calculating the estimators"
   ]
  },
  {
   "cell_type": "code",
   "execution_count": 55,
   "id": "bef99994-07c1-479c-be97-0561b71cd69e",
   "metadata": {},
   "outputs": [
    {
     "name": "stdout",
     "output_type": "stream",
     "text": [
      "CPU times: user 5min 57s, sys: 1.32 s, total: 5min 58s\n",
      "Wall time: 5min 58s\n"
     ]
    }
   ],
   "source": [
    "%%time\n",
    "[k1, km1, k2, km2, k3, km3] = [3, 2, 2, 3, 3, 1]\n",
    "A = 20\n",
    "B = 10\n",
    "V = 2\n",
    "tmax = 10**4\n",
    "\n",
    "traj, times, epr, trajAB, timesAB = simplified_Brusselator(A, B, V, [k1, km1, k2, km2, k3, km3], tmax)"
   ]
  },
  {
   "cell_type": "code",
   "execution_count": 92,
   "id": "b2986edf-4ba7-4a33-9bab-b981e5dda6fe",
   "metadata": {},
   "outputs": [],
   "source": [
    "Δμ = np.log( (B * k2 * km1 * k3)/(A * km2 * k1 * km3) )\n",
    "\n",
    "# σ_zk\n",
    "K = len(trajAB)/tmax\n",
    "count = Counter(trajAB)\n",
    "PpA = count['pA']/len(trajAB)\n",
    "PmA = count['mA']/len(trajAB)\n",
    "PpB = count['pB']/len(trajAB)\n",
    "PmB = count['mB']/len(trajAB)\n",
    "σzk = K * (PpA - PmA) * smartlog( PpA, PmA ) + K * (PpB - PmB) * smartlog( PpB, PmB )"
   ]
  },
  {
   "cell_type": "code",
   "execution_count": 95,
   "id": "e1505ecc-f8b2-40d8-bd20-e869c5a09181",
   "metadata": {},
   "outputs": [
    {
     "name": "stderr",
     "output_type": "stream",
     "text": [
      "/tmp/ipykernel_11745/3086604479.py:156: RuntimeWarning: divide by zero encountered in true_divide\n",
      "  values = (f_P(X) - f_P(X - eps)) / (f_Q(X) - f_Q(X - eps))\n"
     ]
    }
   ],
   "source": [
    "# Dx and Dt\n",
    "counts2 = count_pairs(trajAB, 2)\n",
    "Xspace = ['pA', 'mA', 'pB', 'mB']\n",
    "Pt = [  [[],[],[],[]],\n",
    "        [[],[],[],[]],\n",
    "        [[],[],[],[]],\n",
    "        [[],[],[],[]]  ]\n",
    "for i in range(len(trajAB)-1):\n",
    "    x1 = x_dict[trajAB[i]]\n",
    "    x2 = x_dict[trajAB[i+1]]\n",
    "    Pt[ x1 ][ x2 ].append( timesAB[i+1] - timesAB[i] )\n",
    "\n",
    "Dx = 0\n",
    "Dt = 0\n",
    "for x1 in Xspace:\n",
    "    for x2 in Xspace:\n",
    "        Px1x2 = counts2[ (x1, x2) ]\n",
    "        Px1x2r = counts2[ (rev[x2], rev[x1]) ]\n",
    "        Dx += Px1x2 * smartlog( Px1x2, Px1x2r )\n",
    "        \n",
    "        c1 = clicks_dict[x1]\n",
    "        c2 = clicks_dict[x2]\n",
    "        c1r = clicks_dict[rev[x1]]\n",
    "        c2r = clicks_dict[rev[x2]]\n",
    "        if c1 != c2r:\n",
    "            Px1x2 = counts2[ (x1, x2) ]\n",
    "            kld = KLD_PerezCruz(Pt[c1][c2], Pt[c2r][c1r])\n",
    "            Dt += Px1x2*kld"
   ]
  },
  {
   "cell_type": "code",
   "execution_count": 98,
   "id": "a18089d8-02b2-4226-a491-8bbb92bfc826",
   "metadata": {},
   "outputs": [
    {
     "data": {
      "text/plain": [
       "[2.695754254123182,\n",
       " 2.6884772900897786,\n",
       " 0.033668507413591224,\n",
       " -0.0013584896769661505]"
      ]
     },
     "execution_count": 98,
     "metadata": {},
     "output_type": "execute_result"
    }
   ],
   "source": [
    "[epr, σzk, Dx, Dt]"
   ]
  },
  {
   "cell_type": "markdown",
   "id": "868b6708-eb8d-4897-9c08-cf448cde4f48",
   "metadata": {},
   "source": [
    "# plot"
   ]
  },
  {
   "cell_type": "code",
   "execution_count": 244,
   "id": "e8e17752-c688-43f0-8ab7-0345592ec78c",
   "metadata": {},
   "outputs": [
    {
     "name": "stderr",
     "output_type": "stream",
     "text": [
      "/tmp/ipykernel_11745/3086604479.py:156: RuntimeWarning: divide by zero encountered in true_divide\n",
      "  values = (f_P(X) - f_P(X - eps)) / (f_Q(X) - f_Q(X - eps))\n"
     ]
    },
    {
     "name": "stdout",
     "output_type": "stream",
     "text": [
      "CPU times: user 13h 46min 56s, sys: 2min 33s, total: 13h 49min 29s\n",
      "Wall time: 13h 49min 30s\n"
     ]
    }
   ],
   "source": [
    "%%time\n",
    "[k1, km1, k2, km2, k3, km3] = [3, 2, 2, 3, 3, 1]\n",
    "B = 10\n",
    "V = 2\n",
    "tmax = 10**4\n",
    "reps = 10\n",
    "\n",
    "vecs = []\n",
    "\n",
    "for rep in range(reps):\n",
    "    vec = []\n",
    "    for A in np.linspace(9,20,15):\n",
    "\n",
    "        traj, times, epr, trajAB, timesAB = simplified_Brusselator(A, B, V, [k1, km1, k2, km2, k3, km3], tmax)\n",
    "        Δμ = np.log( (B * k2 * km1 * k3)/(A * km2 * k1 * km3) )\n",
    "\n",
    "        # σ_zk\n",
    "        K = len(trajAB)/tmax\n",
    "        count = Counter(trajAB)\n",
    "        PpA = count['pA']/len(trajAB)\n",
    "        PmA = count['mA']/len(trajAB)\n",
    "        PpB = count['pB']/len(trajAB)\n",
    "        PmB = count['mB']/len(trajAB)\n",
    "        [σzkA, σzkB] = [ K * (PpA - PmA) * smartlog( PpA, PmA ) , K * (PpB - PmB) * smartlog( PpB, PmB ) ]\n",
    "\n",
    "        # Dx and Dt\n",
    "        counts2 = count_pairs(trajAB, 2)\n",
    "        Xspace = ['pA', 'mA', 'pB', 'mB']\n",
    "        Pt = [  [[],[],[],[]],\n",
    "                [[],[],[],[]],\n",
    "                [[],[],[],[]],\n",
    "                [[],[],[],[]]  ]\n",
    "        for i in range(len(trajAB)-1):\n",
    "            x1 = x_dict[trajAB[i]]\n",
    "            x2 = x_dict[trajAB[i+1]]\n",
    "            Pt[ x1 ][ x2 ].append( timesAB[i+1] - timesAB[i] )\n",
    "        Dx = 0\n",
    "        Dt = 0\n",
    "        for x1 in Xspace:\n",
    "            for x2 in Xspace:\n",
    "                Px1x2 = counts2[ (x1, x2) ]\n",
    "                Px1x2r = counts2[ (rev[x2], rev[x1]) ]\n",
    "                Dx += Px1x2 * smartlog( Px1x2, Px1x2r )\n",
    "\n",
    "                c1 = clicks_dict[x1]\n",
    "                c2 = clicks_dict[x2]\n",
    "                c1r = clicks_dict[rev[x1]]\n",
    "                c2r = clicks_dict[rev[x2]]\n",
    "                if c1 != c2r:\n",
    "                    Px1x2 = counts2[ (x1, x2) ]\n",
    "                    kld = KLD_PerezCruz(Pt[c1][c2], Pt[c2r][c1r])\n",
    "                    Dt += Px1x2*kld\n",
    "\n",
    "        # σti\n",
    "        counts3 = count_pairs(traj, 3)\n",
    "        A1 = smartlog( counts3[ ('mA', 'pB', 'pC') ], counts3[ ('mC', 'mB', 'pA') ])\n",
    "        A2 = smartlog( counts3[ ('pC', 'mA', 'pB') ], counts3[ ('mB', 'pA', 'mC') ])\n",
    "        A3 = smartlog( counts3[ ('pB', 'pC', 'mA') ], counts3[ ('pA', 'mC', 'mB') ])\n",
    "        affinity = np.mean([A1, A2, A3])\n",
    "        J = - K * (PpA - PmA)\n",
    "\n",
    "        vec.append( [Δμ, epr, σzkA, σzkB, Dx, Dt, J, A1, A2, A3] )\n",
    "    \n",
    "    vecs.append(vec)"
   ]
  },
  {
   "cell_type": "code",
   "execution_count": 245,
   "id": "aebde1c5-68eb-4ea6-a480-6478ffb4609e",
   "metadata": {},
   "outputs": [],
   "source": [
    "aff_mean = []\n",
    "epr_mean = []\n",
    "epr_std = []\n",
    "σzkB_mean = []\n",
    "σzkB_std = []\n",
    "σzk_mean = []\n",
    "σzk_std = []\n",
    "Dx_mean = []\n",
    "Dx_std = []\n",
    "Dt_mean = []\n",
    "Dt_std = []\n",
    "σti_mean = []\n",
    "σti_std = []\n",
    "\n",
    "for i in range(len(vec)):\n",
    "    \n",
    "    affinities = [x[i][0] for x in vecs]\n",
    "    aff_mean.append( np.mean( affinities ) )\n",
    "    \n",
    "    eprs = [x[i][1] for x in vecs]\n",
    "    epr_mean.append( np.mean( eprs ) )    \n",
    "    epr_std.append( np.std( eprs ) )\n",
    "    \n",
    "    σzkBs = [x[i][3] for x in vecs]\n",
    "    σzkB_mean.append( np.mean( σzkBs ) )\n",
    "    σzkB_std.append( np.std( σzkBs ) )\n",
    "    \n",
    "    σzks = [x[i][3]+x[i][2] for x in vecs]\n",
    "    σzk_mean.append( np.mean( σzks ) )\n",
    "    σzk_std.append( np.std( σzks ) )\n",
    "    \n",
    "    Dxs = [x[i][4] for x in vecs]\n",
    "    Dx_mean.append( np.mean( Dxs ) )\n",
    "    Dx_std.append( np.std( Dxs ) )\n",
    "    \n",
    "    Dts = [x[i][5] for x in vecs]\n",
    "    Dt_mean.append( np.mean( Dts ) )\n",
    "    Dt_std.append( np.std( Dts ) )\n",
    "    \n",
    "    σtis = [ x[i][6]*np.mean( [x[i][7], x[i][8], x[i][9]] ) for x in vecs]\n",
    "    σti_mean.append( np.mean( σtis ) )\n",
    "    σti_std.append( np.std( σtis ) )"
   ]
  },
  {
   "cell_type": "code",
   "execution_count": 253,
   "id": "983b1eee-8a63-4812-a39a-d08db609826c",
   "metadata": {},
   "outputs": [
    {
     "data": {
      "image/png": "[encoded data removed]",
      "text/plain": [
       "<Figure size 640x480 with 1 Axes>"
      ]
     },
     "metadata": {},
     "output_type": "display_data"
    }
   ],
   "source": [
    "plt.plot(aff_mean, epr_mean, \"-\", label = 'σ', color = 'k')\n",
    "plt.errorbar(aff_mean, σzkB_mean, yerr = σzkB_std, fmt=\"o\", alpha = 0.6, label = 'σ_zk^(1)')\n",
    "plt.errorbar(aff_mean, σzk_mean, yerr = σzk_std, fmt=\"o\", alpha = 0.6, label = 'σ_zk^(2)')\n",
    "plt.errorbar(aff_mean, σti_mean, yerr = σti_std, fmt=\"o\", alpha = 0.6, label = 'σ_ti')\n",
    "plt.legend()\n",
    "plt.show()"
   ]
  },
  {
   "cell_type": "code",
   "execution_count": 254,
   "id": "03ab1de7-bdef-4448-a3c1-f04b6868c318",
   "metadata": {},
   "outputs": [
    {
     "data": {
      "image/png": "[encoded data removed]",
      "text/plain": [
       "<Figure size 640x480 with 1 Axes>"
      ]
     },
     "metadata": {},
     "output_type": "display_data"
    }
   ],
   "source": [
    "plt.errorbar(aff_mean, Dx_mean, yerr = Dx_std, fmt=\"o-\", alpha = 0.6, label = 'D_x')\n",
    "plt.errorbar(aff_mean, Dt_mean, yerr = Dt_std, fmt=\"o-\", alpha = 0.6, label = 'D_t')\n",
    "plt.legend()\n",
    "plt.show()"
   ]
  },
  {
   "cell_type": "code",
   "execution_count": 261,
   "id": "5041d0a3-70b7-47ca-bd2b-22e29d922e85",
   "metadata": {},
   "outputs": [],
   "source": [
    "np.savetxt('bruss_simulation_results.txt', np.array([aff_mean, epr_mean, epr_std, σzkB_mean, σzkB_std, σzk_mean, σzk_std, σti_mean, σti_std, Dx_mean, Dx_std, Dt_mean, Dt_std]).T, fmt=\"%.4f\")"
   ]
  },
  {
   "cell_type": "code",
   "execution_count": null,
   "id": "54ba380a-7443-4372-a236-7e1ec4bcd1c0",
   "metadata": {},
   "outputs": [],
   "source": []
  }
 ],
 "metadata": {
  "kernelspec": {
   "display_name": "Python 3 (ipykernel)",
   "language": "python",
   "name": "python3"
  },
  "language_info": {
   "codemirror_mode": {
    "name": "ipython",
    "version": 3
   },
   "file_extension": ".py",
   "mimetype": "text/x-python",
   "name": "python",
   "nbconvert_exporter": "python",
   "pygments_lexer": "ipython3",
   "version": "3.8.10"
  }
 },
 "nbformat": 4,
 "nbformat_minor": 5
}
